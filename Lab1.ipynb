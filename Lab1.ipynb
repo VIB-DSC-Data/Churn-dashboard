{
 "cells": [
  {
   "cell_type": "code",
   "execution_count": 6,
   "metadata": {},
   "outputs": [],
   "source": [
    "import cx_Oracle as ora\n",
    "\n",
    "dsnStr = ora.makedsn(host=\"10.60.54.12\", port=\"1521\", service_name=\"DEC_DATA\")\n",
    "con = ora.connect(user=\"ADM32157HIEUNGUYENPHI\", password=\"ADM32157HIEU\", dsn=dsnStr)\n",
    "\n",
    "tmp = '''\n",
    "(SELECT A.*,CASE WHEN  A1.TOTAL_AMT IS NULL OR  A1.TOTAL_AMT = 0 THEN 'nontransactional' else 'transactional' end as TYPE_LV3\n",
    "               ,A1.TOTAL_AMT, A1.TOTAL_TRANS\n",
    "          FROM DEC_BU.MY_CHURN_DASHBOARD_DETAIL A\n",
    "                   LEFT JOIN DEC_BU.MY_CHURN_DASHBOARD_ONLTRANS A1\n",
    "                             ON A.CLIENT_NO = A1.CLIENT_NO AND A.DATETIME = A1.DATETIME\n",
    "          WHERE A.TYPE_LV1 IS NOT NULL)\n",
    "'''\n",
    "\n",
    "query = '''\n",
    "\n",
    "SELECT DATETIME, (COUNT(CLIENT_NO)) AS VOL FROM ''' + tmp + '''\n",
    "WHERE TYPE_LV2 in ('wonback_users','active_new_accquired_user')\n",
    "GROUP BY DATETIME\n",
    "'''\n",
    "c = con.cursor()\n",
    "df = c.execute(query).fetchall()"
   ]
  },
  {
   "cell_type": "code",
   "execution_count": 22,
   "metadata": {},
   "outputs": [],
   "source": [
    "import pandas as pd\n",
    "\n",
    "net_gain = pd.DataFrame([list(row) for row in df], columns = [row[0] for row in c.description])\n",
    "net_gain.to_csv('net_gain.csv', index=False)\n"
   ]
  },
  {
   "cell_type": "code",
   "execution_count": 26,
   "metadata": {},
   "outputs": [],
   "source": [
    "dsnStr = ora.makedsn(host=\"10.60.54.12\", port=\"1521\", service_name=\"DEC_DATA\")\n",
    "con = ora.connect(user=\"ADM32157HIEUNGUYENPHI\", password=\"ADM32157HIEU\", dsn=dsnStr)\n",
    "c = con.cursor()\n",
    "query = 'SELECT * FROM dec_bu.MY_CHURN_DASHBOARD_METRIC'\n",
    "df_n = c.execute(query).fetchall()\n",
    "df_n = pd.DataFrame([list(row) for row in df_n], columns = [row[0] for row in c.description])\n",
    "df_n.to_csv('row1.csv', index=False)"
   ]
  },
  {
   "cell_type": "code",
   "execution_count": 29,
   "metadata": {},
   "outputs": [],
   "source": [
    "dsnStr = ora.makedsn(host=\"10.60.54.12\", port=\"1521\", service_name=\"DEC_DATA\")\n",
    "con = ora.connect(user=\"ADM32157HIEUNGUYENPHI\", password=\"ADM32157HIEU\", dsn=dsnStr)\n",
    "c = con.cursor()\n",
    "query = '''SELECT TYPE_LV1, TYPE_LV2, TYPE_LV3, COUNT(CLIENT_NO) as VALUE FROM ''' + tmp + ''' WHERE DATETIME = date'2022-11-30' GROUP BY TYPE_LV1, TYPE_LV2, TYPE_LV3'''\n",
    "df_n = c.execute(query).fetchall()\n",
    "df_n = pd.DataFrame([list(row) for row in df_n], columns = [row[0] for row in c.description])\n",
    "df_n.to_csv('row4.csv', index=False)"
   ]
  }
 ],
 "metadata": {
  "kernelspec": {
   "display_name": "Python 3.8.10 ('base')",
   "language": "python",
   "name": "python3"
  },
  "language_info": {
   "codemirror_mode": {
    "name": "ipython",
    "version": 3
   },
   "file_extension": ".py",
   "mimetype": "text/x-python",
   "name": "python",
   "nbconvert_exporter": "python",
   "pygments_lexer": "ipython3",
   "version": "3.8.10 (default, May 19 2021, 11:01:55) \n[Clang 10.0.0 ]"
  },
  "orig_nbformat": 4,
  "vscode": {
   "interpreter": {
    "hash": "40d3a090f54c6569ab1632332b64b2c03c39dcf918b08424e98f38b5ae0af88f"
   }
  }
 },
 "nbformat": 4,
 "nbformat_minor": 2
}
